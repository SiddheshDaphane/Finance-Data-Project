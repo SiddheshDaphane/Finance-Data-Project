{
 "cells": [
  {
   "attachments": {},
   "cell_type": "markdown",
   "metadata": {},
   "source": [
    "# Finance Data Project\n",
    "We'll focus on bank stocks and see how they progressed throughout the [financial crisis](https://en.wikipedia.org/wiki/Financial_crisis_of_2007%E2%80%9308) all the way to early 2016."
   ]
  },
  {
   "attachments": {},
   "cell_type": "markdown",
   "metadata": {},
   "source": [
    "## Get the Data\n",
    "\n",
    "In this section we will learn how to use pandas to directly read data from Google finance using pandas!\n",
    "\n",
    "First we need to start with the proper imports, which we've already laid out for you here.\n",
    "\n",
    "*Note: [You'll need to install pandas-datareader for this to work!](https://github.com/pydata/pandas-datareader) Pandas datareader allows you to [read stock information directly from the internet](http://pandas.pydata.org/pandas-docs/stable/remote_data.html) Use these links for install guidance (**pip install pandas-datareader**), or just follow along with the video lecture.*\n"
   ]
  },
  {
   "cell_type": "code",
   "execution_count": 6,
   "metadata": {},
   "outputs": [],
   "source": [
    "import yfinance as yf\n",
    "import pandas as pd \n",
    "import numpy as np\n",
    "import datetime\n",
    "%matplotlib inline"
   ]
  },
  {
   "cell_type": "code",
   "execution_count": 12,
   "metadata": {},
   "outputs": [],
   "source": [
    "start = '2006-01-01'\n",
    "end = '2016-01-01'"
   ]
  },
  {
   "cell_type": "code",
   "execution_count": 14,
   "metadata": {},
   "outputs": [
    {
     "name": "stdout",
     "output_type": "stream",
     "text": [
      "[*********************100%***********************]  1 of 1 completed\n",
      "[*********************100%***********************]  1 of 1 completed\n",
      "[*********************100%***********************]  1 of 1 completed\n",
      "[*********************100%***********************]  1 of 1 completed\n",
      "[*********************100%***********************]  1 of 1 completed\n",
      "[*********************100%***********************]  1 of 1 completed\n"
     ]
    }
   ],
   "source": [
    "# Bank of America\n",
    "BAC = yf.download(\"BAC\", start, end)\n",
    "\n",
    "# CitiGroup\n",
    "C = yf.download(\"C\", start, end)\n",
    "\n",
    "# Goldman Sachs\n",
    "GS = yf.download(\"GS\", start, end)\n",
    "\n",
    "# JPMorgan Chase\n",
    "JPM = yf.download(\"JPM\", start, end)\n",
    "\n",
    "# Morgan Stanley\n",
    "MS = yf.download(\"MS\", start, end)\n",
    "\n",
    "# Wells Fargo\n",
    "WFC = yf.download(\"WFC\", start, end)"
   ]
  },
  {
   "cell_type": "code",
   "execution_count": 16,
   "metadata": {},
   "outputs": [
    {
     "name": "stdout",
     "output_type": "stream",
     "text": [
      "Bank of America\n",
      "                 Open       High        Low      Close  Adj Close    Volume\n",
      "Date                                                                       \n",
      "2006-01-03  46.919998  47.180000  46.150002  47.080002  32.168690  16296700\n",
      "2006-01-04  47.000000  47.240002  46.450001  46.580002  31.827070  17757900\n",
      "2006-01-05  46.580002  46.830002  46.320000  46.639999  31.868042  14970700\n",
      "2006-01-06  46.799999  46.910000  46.349998  46.570000  31.820213  12599800\n",
      "2006-01-09  46.720001  46.970001  46.360001  46.599998  31.840744  15619400\n",
      "\n",
      "CitiGroup\n",
      "                  Open        High         Low       Close   Adj Close   Volume\n",
      "Date                                                                           \n",
      "2006-01-03  490.000000  493.799988  481.100006  492.899994  335.203918  1537600\n",
      "2006-01-04  488.600006  491.000000  483.500000  483.799988  329.015259  1870960\n",
      "2006-01-05  484.399994  487.799988  484.000000  486.200012  330.647614  1143160\n",
      "2006-01-06  488.799988  489.000000  482.000000  486.200012  330.647614  1370210\n",
      "2006-01-09  486.000000  487.399994  483.000000  483.899994  329.083374  1680740\n",
      "\n",
      "Goldman Sachs\n",
      "                  Open        High         Low       Close  Adj Close   Volume\n",
      "Date                                                                          \n",
      "2006-01-03  126.699997  129.440002  124.230003  128.869995  98.085472  6188700\n",
      "2006-01-04  127.349998  128.910004  126.379997  127.089996  96.730652  4861600\n",
      "2006-01-05  126.000000  127.320000  125.610001  127.040001  96.692619  3717400\n",
      "2006-01-06  127.290001  129.250000  127.290001  128.839996  98.062645  4319600\n",
      "2006-01-09  128.500000  130.619995  128.000000  130.389999  99.242363  4723500\n",
      "\n",
      "JPMorgan Chase\n",
      "                 Open       High        Low      Close  Adj Close    Volume\n",
      "Date                                                                       \n",
      "2006-01-03  39.830002  40.360001  39.299999  40.189999  24.795872  12838600\n",
      "2006-01-04  39.779999  40.139999  39.419998  39.619999  24.652779  13491500\n",
      "2006-01-05  39.610001  39.810001  39.500000  39.740002  24.727455   8109400\n",
      "2006-01-06  39.919998  40.240002  39.549999  40.020000  24.901657   7966900\n",
      "2006-01-09  39.880001  40.720001  39.880001  40.669998  25.306103  16575200\n",
      "\n",
      "Morgan Stanley\n",
      "                 Open       High        Low      Close  Adj Close   Volume\n",
      "Date                                                                      \n",
      "2006-01-03  57.169998  58.490002  56.740002  58.310001  33.259644  5377000\n",
      "2006-01-04  58.700001  59.279999  58.349998  58.349998  33.282452  7977800\n",
      "2006-01-05  58.549999  58.590000  58.020000  58.509998  33.373722  5778000\n",
      "2006-01-06  58.770000  58.849998  58.049999  58.570000  33.407951  6889800\n",
      "2006-01-09  58.630001  59.290001  58.619999  59.189999  33.761593  4144500\n",
      "\n",
      "Wells Fargo\n",
      "                 Open       High        Low      Close  Adj Close    Volume\n",
      "Date                                                                       \n",
      "2006-01-03  31.600000  31.975000  31.195000  31.900000  19.234488  11016400\n",
      "2006-01-04  31.799999  31.820000  31.365000  31.530001  19.011398  10870000\n",
      "2006-01-05  31.500000  31.555000  31.309999  31.495001  18.990297  10158000\n",
      "2006-01-06  31.580000  31.775000  31.385000  31.680000  19.101849   8403800\n",
      "2006-01-09  31.674999  31.825001  31.555000  31.674999  19.098824   5619600\n"
     ]
    }
   ],
   "source": [
    "print(\"Bank of America\")\n",
    "print(BAC.head())\n",
    "\n",
    "print(\"\\nCitiGroup\")\n",
    "print(C.head())\n",
    "\n",
    "print(\"\\nGoldman Sachs\")\n",
    "print(GS.head())\n",
    "\n",
    "print(\"\\nJPMorgan Chase\")\n",
    "print(JPM.head())\n",
    "\n",
    "print(\"\\nMorgan Stanley\")\n",
    "print(MS.head())\n",
    "\n",
    "print(\"\\nWells Fargo\")\n",
    "print(WFC.head())"
   ]
  },
  {
   "cell_type": "code",
   "execution_count": null,
   "metadata": {},
   "outputs": [],
   "source": []
  }
 ],
 "metadata": {
  "kernelspec": {
   "display_name": "base",
   "language": "python",
   "name": "python3"
  },
  "language_info": {
   "codemirror_mode": {
    "name": "ipython",
    "version": 3
   },
   "file_extension": ".py",
   "mimetype": "text/x-python",
   "name": "python",
   "nbconvert_exporter": "python",
   "pygments_lexer": "ipython3",
   "version": "3.9.13"
  },
  "orig_nbformat": 4,
  "vscode": {
   "interpreter": {
    "hash": "e35bb2e3c79095b46db2d2cf20f0213186650ec52b2a529d2197a0fcfde3c5b4"
   }
  }
 },
 "nbformat": 4,
 "nbformat_minor": 2
}
